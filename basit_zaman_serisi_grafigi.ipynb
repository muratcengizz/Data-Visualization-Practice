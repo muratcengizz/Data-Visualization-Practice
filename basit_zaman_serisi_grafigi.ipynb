{
 "cells": [
  {
   "cell_type": "markdown",
   "id": "ba89f367-a098-45ec-a26b-afd837f4b99b",
   "metadata": {},
   "source": [
    "# Basit Zaman Serisi Grafiği"
   ]
  },
  {
   "cell_type": "code",
   "execution_count": 1,
   "id": "b48dbe1b-e557-451b-91ee-4adc3518c118",
   "metadata": {},
   "outputs": [],
   "source": [
    "#!pip install pandas_datareader\n",
    "#!pip install yfinance --upgrade --no-cache-dir\n",
    "import yfinance as yf\n",
    "import pandas as pd"
   ]
  },
  {
   "cell_type": "code",
   "execution_count": 2,
   "id": "d2a30265-20d3-4040-a76b-49f2225a3c1c",
   "metadata": {},
   "outputs": [],
   "source": [
    "import pandas_datareader as pr"
   ]
  },
  {
   "cell_type": "code",
   "execution_count": 3,
   "id": "9fa18e39-2165-441e-a854-db1d04f9e00f",
   "metadata": {},
   "outputs": [
    {
     "name": "stdout",
     "output_type": "stream",
     "text": [
      "[*********************100%***********************]  1 of 1 completed\n"
     ]
    }
   ],
   "source": [
    "df = yf.download('AAPL', start='2016-01-01', end='2019-08-25')"
   ]
  },
  {
   "cell_type": "code",
   "execution_count": 4,
   "id": "88104e19-4e0f-4631-be1b-c5b5abf86b49",
   "metadata": {},
   "outputs": [
    {
     "data": {
      "text/html": [
       "<div>\n",
       "<style scoped>\n",
       "    .dataframe tbody tr th:only-of-type {\n",
       "        vertical-align: middle;\n",
       "    }\n",
       "\n",
       "    .dataframe tbody tr th {\n",
       "        vertical-align: top;\n",
       "    }\n",
       "\n",
       "    .dataframe thead th {\n",
       "        text-align: right;\n",
       "    }\n",
       "</style>\n",
       "<table border=\"1\" class=\"dataframe\">\n",
       "  <thead>\n",
       "    <tr style=\"text-align: right;\">\n",
       "      <th></th>\n",
       "      <th>Open</th>\n",
       "      <th>High</th>\n",
       "      <th>Low</th>\n",
       "      <th>Close</th>\n",
       "      <th>Adj Close</th>\n",
       "      <th>Volume</th>\n",
       "    </tr>\n",
       "    <tr>\n",
       "      <th>Date</th>\n",
       "      <th></th>\n",
       "      <th></th>\n",
       "      <th></th>\n",
       "      <th></th>\n",
       "      <th></th>\n",
       "      <th></th>\n",
       "    </tr>\n",
       "  </thead>\n",
       "  <tbody>\n",
       "    <tr>\n",
       "      <th>2016-01-04 00:00:00-05:00</th>\n",
       "      <td>25.652500</td>\n",
       "      <td>26.342501</td>\n",
       "      <td>25.500000</td>\n",
       "      <td>26.337500</td>\n",
       "      <td>24.111496</td>\n",
       "      <td>270597600</td>\n",
       "    </tr>\n",
       "    <tr>\n",
       "      <th>2016-01-05 00:00:00-05:00</th>\n",
       "      <td>26.437500</td>\n",
       "      <td>26.462500</td>\n",
       "      <td>25.602501</td>\n",
       "      <td>25.677500</td>\n",
       "      <td>23.507282</td>\n",
       "      <td>223164000</td>\n",
       "    </tr>\n",
       "    <tr>\n",
       "      <th>2016-01-06 00:00:00-05:00</th>\n",
       "      <td>25.139999</td>\n",
       "      <td>25.592501</td>\n",
       "      <td>24.967501</td>\n",
       "      <td>25.174999</td>\n",
       "      <td>23.047249</td>\n",
       "      <td>273829600</td>\n",
       "    </tr>\n",
       "    <tr>\n",
       "      <th>2016-01-07 00:00:00-05:00</th>\n",
       "      <td>24.670000</td>\n",
       "      <td>25.032499</td>\n",
       "      <td>24.107500</td>\n",
       "      <td>24.112499</td>\n",
       "      <td>22.074553</td>\n",
       "      <td>324377600</td>\n",
       "    </tr>\n",
       "    <tr>\n",
       "      <th>2016-01-08 00:00:00-05:00</th>\n",
       "      <td>24.637501</td>\n",
       "      <td>24.777500</td>\n",
       "      <td>24.190001</td>\n",
       "      <td>24.240000</td>\n",
       "      <td>22.191277</td>\n",
       "      <td>283192000</td>\n",
       "    </tr>\n",
       "  </tbody>\n",
       "</table>\n",
       "</div>"
      ],
      "text/plain": [
       "                                Open       High        Low      Close  \\\n",
       "Date                                                                    \n",
       "2016-01-04 00:00:00-05:00  25.652500  26.342501  25.500000  26.337500   \n",
       "2016-01-05 00:00:00-05:00  26.437500  26.462500  25.602501  25.677500   \n",
       "2016-01-06 00:00:00-05:00  25.139999  25.592501  24.967501  25.174999   \n",
       "2016-01-07 00:00:00-05:00  24.670000  25.032499  24.107500  24.112499   \n",
       "2016-01-08 00:00:00-05:00  24.637501  24.777500  24.190001  24.240000   \n",
       "\n",
       "                           Adj Close     Volume  \n",
       "Date                                             \n",
       "2016-01-04 00:00:00-05:00  24.111496  270597600  \n",
       "2016-01-05 00:00:00-05:00  23.507282  223164000  \n",
       "2016-01-06 00:00:00-05:00  23.047249  273829600  \n",
       "2016-01-07 00:00:00-05:00  22.074553  324377600  \n",
       "2016-01-08 00:00:00-05:00  22.191277  283192000  "
      ]
     },
     "execution_count": 4,
     "metadata": {},
     "output_type": "execute_result"
    }
   ],
   "source": [
    "df = pd.DataFrame(df)\n",
    "df.head()"
   ]
  },
  {
   "cell_type": "code",
   "execution_count": 5,
   "id": "6c47b36a-f48b-4f16-a49a-90e9c1d42f18",
   "metadata": {},
   "outputs": [
    {
     "data": {
      "text/html": [
       "<div>\n",
       "<style scoped>\n",
       "    .dataframe tbody tr th:only-of-type {\n",
       "        vertical-align: middle;\n",
       "    }\n",
       "\n",
       "    .dataframe tbody tr th {\n",
       "        vertical-align: top;\n",
       "    }\n",
       "\n",
       "    .dataframe thead th {\n",
       "        text-align: right;\n",
       "    }\n",
       "</style>\n",
       "<table border=\"1\" class=\"dataframe\">\n",
       "  <thead>\n",
       "    <tr style=\"text-align: right;\">\n",
       "      <th></th>\n",
       "      <th>count</th>\n",
       "      <th>mean</th>\n",
       "      <th>std</th>\n",
       "      <th>min</th>\n",
       "      <th>25%</th>\n",
       "      <th>50%</th>\n",
       "      <th>75%</th>\n",
       "      <th>max</th>\n",
       "    </tr>\n",
       "  </thead>\n",
       "  <tbody>\n",
       "    <tr>\n",
       "      <th>Open</th>\n",
       "      <td>917.0</td>\n",
       "      <td>3.875030e+01</td>\n",
       "      <td>9.557526e+00</td>\n",
       "      <td>2.250000e+01</td>\n",
       "      <td>2.884500e+01</td>\n",
       "      <td>3.963250e+01</td>\n",
       "      <td>4.630750e+01</td>\n",
       "      <td>5.769500e+01</td>\n",
       "    </tr>\n",
       "    <tr>\n",
       "      <th>High</th>\n",
       "      <td>917.0</td>\n",
       "      <td>3.909541e+01</td>\n",
       "      <td>9.663354e+00</td>\n",
       "      <td>2.291750e+01</td>\n",
       "      <td>2.908250e+01</td>\n",
       "      <td>4.000000e+01</td>\n",
       "      <td>4.680000e+01</td>\n",
       "      <td>5.836750e+01</td>\n",
       "    </tr>\n",
       "    <tr>\n",
       "      <th>Low</th>\n",
       "      <td>917.0</td>\n",
       "      <td>3.842871e+01</td>\n",
       "      <td>9.454082e+00</td>\n",
       "      <td>2.236750e+01</td>\n",
       "      <td>2.868000e+01</td>\n",
       "      <td>3.918000e+01</td>\n",
       "      <td>4.595000e+01</td>\n",
       "      <td>5.744500e+01</td>\n",
       "    </tr>\n",
       "    <tr>\n",
       "      <th>Close</th>\n",
       "      <td>917.0</td>\n",
       "      <td>3.877278e+01</td>\n",
       "      <td>9.552587e+00</td>\n",
       "      <td>2.258500e+01</td>\n",
       "      <td>2.895500e+01</td>\n",
       "      <td>3.948000e+01</td>\n",
       "      <td>4.637500e+01</td>\n",
       "      <td>5.801750e+01</td>\n",
       "    </tr>\n",
       "    <tr>\n",
       "      <th>Adj Close</th>\n",
       "      <td>917.0</td>\n",
       "      <td>3.689583e+01</td>\n",
       "      <td>9.609848e+00</td>\n",
       "      <td>2.091491e+01</td>\n",
       "      <td>2.701267e+01</td>\n",
       "      <td>3.772682e+01</td>\n",
       "      <td>4.453884e+01</td>\n",
       "      <td>5.580238e+01</td>\n",
       "    </tr>\n",
       "    <tr>\n",
       "      <th>Volume</th>\n",
       "      <td>917.0</td>\n",
       "      <td>1.299439e+08</td>\n",
       "      <td>5.898968e+07</td>\n",
       "      <td>4.544800e+07</td>\n",
       "      <td>9.097520e+07</td>\n",
       "      <td>1.135284e+08</td>\n",
       "      <td>1.503472e+08</td>\n",
       "      <td>5.334788e+08</td>\n",
       "    </tr>\n",
       "  </tbody>\n",
       "</table>\n",
       "</div>"
      ],
      "text/plain": [
       "           count          mean           std           min           25%  \\\n",
       "Open       917.0  3.875030e+01  9.557526e+00  2.250000e+01  2.884500e+01   \n",
       "High       917.0  3.909541e+01  9.663354e+00  2.291750e+01  2.908250e+01   \n",
       "Low        917.0  3.842871e+01  9.454082e+00  2.236750e+01  2.868000e+01   \n",
       "Close      917.0  3.877278e+01  9.552587e+00  2.258500e+01  2.895500e+01   \n",
       "Adj Close  917.0  3.689583e+01  9.609848e+00  2.091491e+01  2.701267e+01   \n",
       "Volume     917.0  1.299439e+08  5.898968e+07  4.544800e+07  9.097520e+07   \n",
       "\n",
       "                    50%           75%           max  \n",
       "Open       3.963250e+01  4.630750e+01  5.769500e+01  \n",
       "High       4.000000e+01  4.680000e+01  5.836750e+01  \n",
       "Low        3.918000e+01  4.595000e+01  5.744500e+01  \n",
       "Close      3.948000e+01  4.637500e+01  5.801750e+01  \n",
       "Adj Close  3.772682e+01  4.453884e+01  5.580238e+01  \n",
       "Volume     1.135284e+08  1.503472e+08  5.334788e+08  "
      ]
     },
     "execution_count": 5,
     "metadata": {},
     "output_type": "execute_result"
    }
   ],
   "source": [
    "df.describe().T"
   ]
  },
  {
   "cell_type": "code",
   "execution_count": 6,
   "id": "a3e380d1-1b15-4186-be23-9c4de3a8dca5",
   "metadata": {},
   "outputs": [
    {
     "name": "stdout",
     "output_type": "stream",
     "text": [
      "<class 'pandas.core.frame.DataFrame'>\n",
      "DatetimeIndex: 917 entries, 2016-01-04 00:00:00-05:00 to 2019-08-23 00:00:00-04:00\n",
      "Data columns (total 6 columns):\n",
      " #   Column     Non-Null Count  Dtype  \n",
      "---  ------     --------------  -----  \n",
      " 0   Open       917 non-null    float64\n",
      " 1   High       917 non-null    float64\n",
      " 2   Low        917 non-null    float64\n",
      " 3   Close      917 non-null    float64\n",
      " 4   Adj Close  917 non-null    float64\n",
      " 5   Volume     917 non-null    int64  \n",
      "dtypes: float64(5), int64(1)\n",
      "memory usage: 50.1 KB\n"
     ]
    }
   ],
   "source": [
    "df.info()"
   ]
  },
  {
   "cell_type": "code",
   "execution_count": 7,
   "id": "c15e2022-4849-4fc5-9cae-fb026214ec49",
   "metadata": {},
   "outputs": [
    {
     "data": {
      "text/plain": [
       "Date\n",
       "2016-01-04 00:00:00-05:00    26.337500\n",
       "2016-01-05 00:00:00-05:00    25.677500\n",
       "2016-01-06 00:00:00-05:00    25.174999\n",
       "2016-01-07 00:00:00-05:00    24.112499\n",
       "2016-01-08 00:00:00-05:00    24.240000\n",
       "Name: Close, dtype: float64"
      ]
     },
     "execution_count": 7,
     "metadata": {},
     "output_type": "execute_result"
    }
   ],
   "source": [
    "kapanis = df['Close']\n",
    "kapanis.head()"
   ]
  },
  {
   "cell_type": "code",
   "execution_count": 8,
   "id": "656aa7b8-af87-4c4e-a244-c4a46b24f19e",
   "metadata": {},
   "outputs": [
    {
     "data": {
      "image/png": "[encoded data removed]",
      "text/plain": [
       "<Figure size 432x288 with 1 Axes>"
      ]
     },
     "metadata": {
      "needs_background": "light"
     },
     "output_type": "display_data"
    }
   ],
   "source": [
    "kapanis.plot();"
   ]
  },
  {
   "cell_type": "code",
   "execution_count": 9,
   "id": "1b86c5c5-e2cc-4881-9605-08c697d263f7",
   "metadata": {},
   "outputs": [
    {
     "data": {
      "text/plain": [
       "DatetimeIndex(['2016-01-04 00:00:00-05:00', '2016-01-05 00:00:00-05:00',\n",
       "               '2016-01-06 00:00:00-05:00', '2016-01-07 00:00:00-05:00',\n",
       "               '2016-01-08 00:00:00-05:00', '2016-01-11 00:00:00-05:00',\n",
       "               '2016-01-12 00:00:00-05:00', '2016-01-13 00:00:00-05:00',\n",
       "               '2016-01-14 00:00:00-05:00', '2016-01-15 00:00:00-05:00',\n",
       "               ...\n",
       "               '2019-08-12 00:00:00-04:00', '2019-08-13 00:00:00-04:00',\n",
       "               '2019-08-14 00:00:00-04:00', '2019-08-15 00:00:00-04:00',\n",
       "               '2019-08-16 00:00:00-04:00', '2019-08-19 00:00:00-04:00',\n",
       "               '2019-08-20 00:00:00-04:00', '2019-08-21 00:00:00-04:00',\n",
       "               '2019-08-22 00:00:00-04:00', '2019-08-23 00:00:00-04:00'],\n",
       "              dtype='datetime64[ns, America/New_York]', name='Date', length=917, freq=None)"
      ]
     },
     "execution_count": 9,
     "metadata": {},
     "output_type": "execute_result"
    }
   ],
   "source": [
    "kapanis.index"
   ]
  },
  {
   "cell_type": "code",
   "execution_count": 10,
   "id": "816248a8-207c-457a-8c01-ec4b49269589",
   "metadata": {},
   "outputs": [],
   "source": [
    "kapanis.index = pd.DatetimeIndex(kapanis.index)"
   ]
  },
  {
   "cell_type": "code",
   "execution_count": 11,
   "id": "c79af8b6-ccd5-4397-af75-b969cb4bf3f4",
   "metadata": {},
   "outputs": [
    {
     "data": {
      "text/plain": [
       "DatetimeIndex(['2016-01-04 00:00:00-05:00', '2016-01-05 00:00:00-05:00',\n",
       "               '2016-01-06 00:00:00-05:00', '2016-01-07 00:00:00-05:00',\n",
       "               '2016-01-08 00:00:00-05:00', '2016-01-11 00:00:00-05:00',\n",
       "               '2016-01-12 00:00:00-05:00', '2016-01-13 00:00:00-05:00',\n",
       "               '2016-01-14 00:00:00-05:00', '2016-01-15 00:00:00-05:00',\n",
       "               ...\n",
       "               '2019-08-12 00:00:00-04:00', '2019-08-13 00:00:00-04:00',\n",
       "               '2019-08-14 00:00:00-04:00', '2019-08-15 00:00:00-04:00',\n",
       "               '2019-08-16 00:00:00-04:00', '2019-08-19 00:00:00-04:00',\n",
       "               '2019-08-20 00:00:00-04:00', '2019-08-21 00:00:00-04:00',\n",
       "               '2019-08-22 00:00:00-04:00', '2019-08-23 00:00:00-04:00'],\n",
       "              dtype='datetime64[ns, America/New_York]', name='Date', length=917, freq=None)"
      ]
     },
     "execution_count": 11,
     "metadata": {},
     "output_type": "execute_result"
    }
   ],
   "source": [
    "kapanis.index"
   ]
  },
  {
   "cell_type": "code",
   "execution_count": 12,
   "id": "077d279d-fab5-43a5-b84e-7fb73d1e032d",
   "metadata": {},
   "outputs": [
    {
     "data": {
      "text/plain": [
       "Date\n",
       "2016-01-04 00:00:00-05:00    26.337500\n",
       "2016-01-05 00:00:00-05:00    25.677500\n",
       "2016-01-06 00:00:00-05:00    25.174999\n",
       "2016-01-07 00:00:00-05:00    24.112499\n",
       "2016-01-08 00:00:00-05:00    24.240000\n",
       "Name: Close, dtype: float64"
      ]
     },
     "execution_count": 12,
     "metadata": {},
     "output_type": "execute_result"
    }
   ],
   "source": [
    "kapanis.head()"
   ]
  },
  {
   "cell_type": "code",
   "execution_count": null,
   "id": "5bee7d5f-dbd8-45bc-b160-289dfcbf04fd",
   "metadata": {},
   "outputs": [],
   "source": []
  }
 ],
 "metadata": {
  "kernelspec": {
   "display_name": "Python 3 (ipykernel)",
   "language": "python",
   "name": "python3"
  },
  "language_info": {
   "codemirror_mode": {
    "name": "ipython",
    "version": 3
   },
   "file_extension": ".py",
   "mimetype": "text/x-python",
   "name": "python",
   "nbconvert_exporter": "python",
   "pygments_lexer": "ipython3",
   "version": "3.9.12"
  }
 },
 "nbformat": 4,
 "nbformat_minor": 5
}
